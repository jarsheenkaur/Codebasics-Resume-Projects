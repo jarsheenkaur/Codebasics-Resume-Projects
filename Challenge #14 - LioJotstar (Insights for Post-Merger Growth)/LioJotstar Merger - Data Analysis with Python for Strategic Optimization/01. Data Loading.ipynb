{
 "cells": [
  {
   "cell_type": "markdown",
   "id": "3baf3c98-aa9c-4a2a-bf43-abae5d01366c",
   "metadata": {},
   "source": [
    "# LioJotstar Merger: Data Analysis with Python for Strategic Optimization"
   ]
  },
  {
   "cell_type": "markdown",
   "id": "c5c63ad7-77cf-440b-b8eb-8a2f2784928d",
   "metadata": {},
   "source": [
    "## 1. Data Loading\n",
    "This notebook connects to MySQL database containing the LioCinema and Jotstar datasets. It executes SQL queries to extract required tables and loads the results into Pandas Dataframes which are saved in Parquet for subsequent analysis as well as inter-notebook transfer. It also includes preliminary inspection of the loaded data."
   ]
  },
  {
   "cell_type": "markdown",
   "id": "13c884ff-a035-4894-a023-02a9f7cc83fb",
   "metadata": {},
   "source": [
    "### Importing Required Libraries"
   ]
  },
  {
   "cell_type": "code",
   "execution_count": 4,
   "id": "8288319c-3647-4d6a-9353-eab3a7309702",
   "metadata": {},
   "outputs": [],
   "source": [
    "import mysql.connector\n",
    "import pandas as pd"
   ]
  },
  {
   "cell_type": "markdown",
   "id": "5c30dacf-d8f7-4600-ad6a-307c1d39cb0f",
   "metadata": {},
   "source": [
    "### Establishing Database Connection & Importing Data"
   ]
  },
  {
   "cell_type": "code",
   "execution_count": 6,
   "id": "fd32e70e-53db-4624-a81d-ac9827b2ebca",
   "metadata": {},
   "outputs": [],
   "source": [
    "jsdb = mysql.connector.connect(host = \"localhost\",\n",
    "                            username = \"root\",\n",
    "                            password = \"JKTuteja79\",\n",
    "                            database = \"jotstar_db\")\n",
    "jscur = jsdb.cursor()\n",
    "lcdb = mysql.connector.connect(host = \"localhost\",\n",
    "                            username = \"root\",\n",
    "                            password = \"JKTuteja79\",\n",
    "                            database = \"liocinema_db\")\n",
    "lccur = lcdb.cursor()"
   ]
  },
  {
   "cell_type": "code",
   "execution_count": 7,
   "id": "71847f52-8ac6-4e5b-97c3-ab58680df905",
   "metadata": {},
   "outputs": [
    {
     "data": {
      "text/plain": [
       "[('content_consumption',), ('contents',), ('subscribers',)]"
      ]
     },
     "execution_count": 7,
     "metadata": {},
     "output_type": "execute_result"
    }
   ],
   "source": [
    "# Checking contents of Jotstar Database\n",
    "query = '''\n",
    "SHOW TABLES\n",
    "'''\n",
    "jscur.execute(query)\n",
    "data = jscur.fetchall()\n",
    "data"
   ]
  },
  {
   "cell_type": "code",
   "execution_count": 8,
   "id": "f3c183c0-4815-4f0e-b436-685b8ea7c89f",
   "metadata": {},
   "outputs": [
    {
     "data": {
      "text/plain": [
       "[('content_consumption',), ('contents',), ('subscribers',)]"
      ]
     },
     "execution_count": 8,
     "metadata": {},
     "output_type": "execute_result"
    }
   ],
   "source": [
    "# Checking contents of LioCinema Database\n",
    "query = '''\n",
    "SHOW TABLES\n",
    "'''\n",
    "lccur.execute(query)\n",
    "data = lccur.fetchall()\n",
    "data"
   ]
  },
  {
   "cell_type": "markdown",
   "id": "213e26d7-ee68-405e-8305-8089bda5e43e",
   "metadata": {},
   "source": [
    "### Importing Data"
   ]
  },
  {
   "cell_type": "code",
   "execution_count": 10,
   "id": "721bfaad-0fbd-45b5-967b-d5201a9fbcfb",
   "metadata": {},
   "outputs": [],
   "source": [
    "# For Jotstar Database Tables\n",
    "query = '''\n",
    "SELECT * FROM contents\n",
    "'''\n",
    "jscur.execute(query)\n",
    "data = jscur.fetchall()\n",
    "jotstar_contents_df = pd.DataFrame(data)\n",
    "jotstar_contents_df.rename(columns = {0:'Content ID', 1:'Content Type', 2:'Language', 3:'Genre', 4:'Run Time (mins)'}, inplace = True)\n",
    "\n",
    "query = '''\n",
    "SELECT * FROM subscribers\n",
    "'''\n",
    "jscur.execute(query)\n",
    "data = jscur.fetchall()\n",
    "jotstar_subscribers_df = pd.DataFrame(data)\n",
    "jotstar_subscribers_df.rename(columns = {0:'User ID', 1:'Age Group', 2:'City Tier', 3:'Subscription Date', 4:'Subscription Plan', \n",
    "                                         5:'Last Active Date', 6:'Plan Change Date', 7:'New Subscription Plan'}, inplace = True)\n",
    "\n",
    "query = '''\n",
    "SELECT * FROM content_consumption\n",
    "'''\n",
    "jscur.execute(query)\n",
    "data = jscur.fetchall()\n",
    "jotstar_content_consumption_df = pd.DataFrame(data)\n",
    "jotstar_content_consumption_df.rename(columns = {0:'User ID', 1:'Device Type', 2:'Total Watch Time (mins)'}, inplace = True)"
   ]
  },
  {
   "cell_type": "code",
   "execution_count": 11,
   "id": "dbe204cc-b5df-4f22-96ee-67a9a7865973",
   "metadata": {},
   "outputs": [],
   "source": [
    "# For LioCinema Database Tables\n",
    "query = '''\n",
    "SELECT * FROM contents\n",
    "'''\n",
    "lccur.execute(query)\n",
    "data = lccur.fetchall()\n",
    "liocinema_contents_df = pd.DataFrame(data)\n",
    "liocinema_contents_df.rename(columns = {0:'Content ID', 1:'Content Type', 2:'Language', 3:'Genre', 4:'Run Time (mins)'}, inplace = True)\n",
    "\n",
    "query = '''\n",
    "SELECT * FROM subscribers\n",
    "'''\n",
    "lccur.execute(query)\n",
    "data = lccur.fetchall()\n",
    "liocinema_subscribers_df = pd.DataFrame(data)\n",
    "liocinema_subscribers_df.rename(columns = {0:'User ID', 1:'Age Group', 2:'City Tier', 3:'Subscription Date', 4:'Subscription Plan', \n",
    "                                           5:'Last Active Date', 6:'Plan Change Date', 7:'New Subscription Plan'}, inplace = True)\n",
    "\n",
    "query = '''\n",
    "SELECT * FROM content_consumption\n",
    "'''\n",
    "lccur.execute(query)\n",
    "data = lccur.fetchall()\n",
    "liocinema_content_consumption_df = pd.DataFrame(data)\n",
    "liocinema_content_consumption_df.rename(columns = {0:'User ID', 1:'Device Type', 2:'Total Watch Time (mins)'}, inplace = True)"
   ]
  },
  {
   "cell_type": "code",
   "execution_count": 12,
   "id": "761b5f94-6da2-4f02-908f-cb30771432aa",
   "metadata": {},
   "outputs": [
    {
     "data": {
      "text/plain": [
       "<bound method DataFrame.info of           Content ID Content Type Language     Genre  Run Time (mins)\n",
       "0     CJSMBEACT2e633        Movie  Bengali    Action               90\n",
       "1     CJSMBEACT34aec        Movie  Bengali    Action              135\n",
       "2     CJSMBEACT83b46        Movie  Bengali    Action              120\n",
       "3     CJSMBECOM12e7a        Movie  Bengali    Comedy              120\n",
       "4     CJSMBECOM5431a        Movie  Bengali    Comedy              135\n",
       "...              ...          ...      ...       ...              ...\n",
       "2355  CJSSTETHR767c0       Series   Telugu  Thriller               20\n",
       "2356  CJSSTETHR8b80e       Series   Telugu  Thriller               30\n",
       "2357  CJSSTETHR92817       Series   Telugu  Thriller               45\n",
       "2358  CJSSTETHRccd4d       Series   Telugu  Thriller               30\n",
       "2359  CJSSTETHRdfb63       Series   Telugu  Thriller               45\n",
       "\n",
       "[2360 rows x 5 columns]>"
      ]
     },
     "execution_count": 12,
     "metadata": {},
     "output_type": "execute_result"
    }
   ],
   "source": [
    "jotstar_contents_df.info"
   ]
  },
  {
   "cell_type": "code",
   "execution_count": 13,
   "id": "3df55a67-6514-4661-a859-90cb9531b6b7",
   "metadata": {},
   "outputs": [
    {
     "data": {
      "text/plain": [
       "<bound method DataFrame.info of                 User ID Age Group City Tier Subscription Date  \\\n",
       "0      UIDJS0000751588f     18-24    Tier 1        2024-06-10   \n",
       "1      UIDJS000093eeb86     18-24    Tier 1        2024-11-09   \n",
       "2      UIDJS00010d7fa1e     25-34    Tier 1        2024-08-08   \n",
       "3      UIDJS00013411a85     35-44    Tier 2        2024-05-31   \n",
       "4      UIDJS0003a3f54cf     35-44    Tier 1        2024-09-20   \n",
       "...                 ...       ...       ...               ...   \n",
       "44615  UIDJSfffbb38249e     25-34    Tier 2        2024-11-12   \n",
       "44616  UIDJSfffbd759005       45+    Tier 1        2024-05-21   \n",
       "44617  UIDJSfffebd3002b     25-34    Tier 1        2024-09-27   \n",
       "44618  UIDJSffff6698084     35-44    Tier 3        2024-10-12   \n",
       "44619  UIDJSffffe298c56     25-34    Tier 2        2024-09-10   \n",
       "\n",
       "      Subscription Plan Last Active Date Plan Change Date  \\\n",
       "0               Premium             None             None   \n",
       "1                  Free             None             None   \n",
       "2                  Free             None             None   \n",
       "3                   VIP             None             None   \n",
       "4               Premium             None             None   \n",
       "...                 ...              ...              ...   \n",
       "44615              Free             None             None   \n",
       "44616               VIP             None             None   \n",
       "44617               VIP       2024-10-29             None   \n",
       "44618               VIP             None             None   \n",
       "44619              Free             None             None   \n",
       "\n",
       "      New Subscription Plan  \n",
       "0                      None  \n",
       "1                      None  \n",
       "2                      None  \n",
       "3                      None  \n",
       "4                      None  \n",
       "...                     ...  \n",
       "44615                  None  \n",
       "44616                  None  \n",
       "44617                  None  \n",
       "44618                  None  \n",
       "44619                  None  \n",
       "\n",
       "[44620 rows x 8 columns]>"
      ]
     },
     "execution_count": 13,
     "metadata": {},
     "output_type": "execute_result"
    }
   ],
   "source": [
    "jotstar_subscribers_df.info"
   ]
  },
  {
   "cell_type": "code",
   "execution_count": 14,
   "id": "2e73db77-2f2c-469f-b093-7caf0c3a6ae6",
   "metadata": {},
   "outputs": [
    {
     "data": {
      "text/plain": [
       "<bound method DataFrame.info of                  User ID Device Type  Total Watch Time (mins)\n",
       "0       UIDJS877cc0e02c9      Mobile                    14613\n",
       "1       UIDJS06384e7ff06      Mobile                    13271\n",
       "2       UIDJSc3997b7beb7      Mobile                     4644\n",
       "3       UIDJS66726ce2325      Mobile                     5734\n",
       "4       UIDJS040119b6107      Mobile                     2939\n",
       "...                  ...         ...                      ...\n",
       "133855  UIDJS96f8e4a1b54      Laptop                    11671\n",
       "133856  UIDJSa131c0a6199      Laptop                     9453\n",
       "133857  UIDJS3f8a556df56      Laptop                      199\n",
       "133858  UIDJS7a51d1c2bcd      Laptop                     3252\n",
       "133859  UIDJS44e851ffbd2      Laptop                    11574\n",
       "\n",
       "[133860 rows x 3 columns]>"
      ]
     },
     "execution_count": 14,
     "metadata": {},
     "output_type": "execute_result"
    }
   ],
   "source": [
    "jotstar_content_consumption_df.info"
   ]
  },
  {
   "cell_type": "code",
   "execution_count": 15,
   "id": "85f9c82c-b281-462f-8d5b-33f8e3066505",
   "metadata": {},
   "outputs": [
    {
     "data": {
      "text/plain": [
       "<bound method DataFrame.info of           Content ID Content Type Language     Genre  Run Time (mins)\n",
       "0     CLCMENACT6b77e        Movie  English    Action              120\n",
       "1     CLCMENACTb7ceb        Movie  English    Action              135\n",
       "2     CLCMENCOM1563a        Movie  English    Comedy              135\n",
       "3     CLCMENCOM16d2c        Movie  English    Comedy              135\n",
       "4     CLCMENCOMa0548        Movie  English    Comedy              135\n",
       "...              ...          ...      ...       ...              ...\n",
       "1245  CLCSTEROMe2fe2       Series   Telugu   Romance               45\n",
       "1246  CLCSTETHR03dcc       Series   Telugu  Thriller               30\n",
       "1247  CLCSTETHR99295       Series   Telugu  Thriller               45\n",
       "1248  CLCSTETHRa1536       Series   Telugu  Thriller               20\n",
       "1249  CLCSTETHRf659a       Series   Telugu  Thriller               45\n",
       "\n",
       "[1250 rows x 5 columns]>"
      ]
     },
     "execution_count": 15,
     "metadata": {},
     "output_type": "execute_result"
    }
   ],
   "source": [
    "liocinema_contents_df.info"
   ]
  },
  {
   "cell_type": "code",
   "execution_count": 16,
   "id": "e33a5608-200b-4c5b-a547-05ef1e2166c1",
   "metadata": {},
   "outputs": [
    {
     "data": {
      "text/plain": [
       "<bound method DataFrame.info of                  User ID Age Group City Tier Subscription Date  \\\n",
       "0       UIDLC00000bea68a     25-34    Tier 3        2024-10-24   \n",
       "1       UIDLC00009202848     18-24    Tier 1        2024-09-18   \n",
       "2       UIDLC0001086afc3     35-44    Tier 2        2024-03-23   \n",
       "3       UIDLC000186abd93     18-24    Tier 3        2024-09-07   \n",
       "4       UIDLC0002189b09f     18-24    Tier 2        2024-10-07   \n",
       "...                  ...       ...       ...               ...   \n",
       "183441  UIDLCffff41ace17     18-24    Tier 2        2024-10-16   \n",
       "183442  UIDLCffff85ea59a     25-34    Tier 2        2024-08-09   \n",
       "183443  UIDLCffffbb55ff5     18-24    Tier 2        2024-11-22   \n",
       "183444  UIDLCffffc6f6db0     18-24    Tier 1        2024-05-01   \n",
       "183445  UIDLCffffe3b01f9     25-34    Tier 3        2024-05-31   \n",
       "\n",
       "       Subscription Plan Last Active Date Plan Change Date  \\\n",
       "0                   Free             None             None   \n",
       "1                  Basic             None             None   \n",
       "2                Premium             None       2024-04-23   \n",
       "3                   Free       2024-10-23             None   \n",
       "4                Premium             None       2024-11-07   \n",
       "...                  ...              ...              ...   \n",
       "183441              Free       2024-11-07             None   \n",
       "183442             Basic             None             None   \n",
       "183443              Free             None             None   \n",
       "183444             Basic       2024-10-10             None   \n",
       "183445              Free       2024-07-09             None   \n",
       "\n",
       "       New Subscription Plan  \n",
       "0                       None  \n",
       "1                       None  \n",
       "2                       Free  \n",
       "3                       None  \n",
       "4                       Free  \n",
       "...                      ...  \n",
       "183441                  None  \n",
       "183442                  None  \n",
       "183443                  None  \n",
       "183444                  None  \n",
       "183445                  None  \n",
       "\n",
       "[183446 rows x 8 columns]>"
      ]
     },
     "execution_count": 16,
     "metadata": {},
     "output_type": "execute_result"
    }
   ],
   "source": [
    "liocinema_subscribers_df.info"
   ]
  },
  {
   "cell_type": "code",
   "execution_count": 17,
   "id": "15f73092-fa7a-4b70-a73e-7099287cb8cd",
   "metadata": {},
   "outputs": [
    {
     "data": {
      "text/plain": [
       "<bound method DataFrame.info of                  User ID Device Type  Total Watch Time (mins)\n",
       "0       UIDLC459c98ee486      Mobile                      502\n",
       "1       UIDLCe4b2fd90790      Mobile                     2098\n",
       "2       UIDLCbc8f0a05367      Mobile                      557\n",
       "3       UIDLC9fc67130445      Mobile                     1720\n",
       "4       UIDLC7026c3e0374      Mobile                      908\n",
       "...                  ...         ...                      ...\n",
       "430747  UIDLC976c213a9f5      Laptop                      620\n",
       "430748  UIDLCee0ef0f566e      Laptop                      337\n",
       "430749  UIDLC9580d2b78b5      Laptop                      563\n",
       "430750  UIDLCcf3cbd323d3      Laptop                      314\n",
       "430751  UIDLC1cd59375868      Laptop                      332\n",
       "\n",
       "[430752 rows x 3 columns]>"
      ]
     },
     "execution_count": 17,
     "metadata": {},
     "output_type": "execute_result"
    }
   ],
   "source": [
    "liocinema_content_consumption_df.info"
   ]
  },
  {
   "cell_type": "markdown",
   "id": "6454ea06-9a0d-4904-8b4b-3911003053cb",
   "metadata": {},
   "source": [
    "### Closing Database Connection"
   ]
  },
  {
   "cell_type": "code",
   "execution_count": 19,
   "id": "60e65ab2-d8c0-4ecb-825a-94147b1b87a1",
   "metadata": {},
   "outputs": [
    {
     "name": "stdout",
     "output_type": "stream",
     "text": [
      "MySQL connection closed successfully.\n"
     ]
    }
   ],
   "source": [
    "jscur.close()  \n",
    "jsdb.close()  \n",
    "lccur.close()  \n",
    "lcdb.close()  \n",
    "print(\"MySQL connection closed successfully.\")"
   ]
  },
  {
   "cell_type": "markdown",
   "id": "013937c1-bb1c-4458-9b8c-614a95b6b00d",
   "metadata": {},
   "source": [
    "### Exporting DataFrames to Parquet Files"
   ]
  },
  {
   "cell_type": "code",
   "execution_count": 21,
   "id": "a14fc257-f9d0-4bd0-befb-0b01b138c546",
   "metadata": {},
   "outputs": [
    {
     "name": "stdout",
     "output_type": "stream",
     "text": [
      "All DataFrames are saved as Parquet files successfully.\n"
     ]
    }
   ],
   "source": [
    "# Saving all Jotstar DataFrames in Parquet Format\n",
    "jotstar_contents_df.to_parquet('Parquet Data Files/01. Data Loading/Jotstar_db/contents.parquet', index = False)\n",
    "jotstar_subscribers_df.to_parquet('Parquet Data Files/01. Data Loading/Jotstar_db/subscribers.parquet', index = False)\n",
    "jotstar_content_consumption_df.to_parquet('Parquet Data Files/01. Data Loading/Jotstar_db/content_consumption.parquet', index = False)\n",
    "\n",
    "# Saving all LioCinema DataFrames in Parquet Format\n",
    "liocinema_contents_df.to_parquet('Parquet Data Files/01. Data Loading/LioCinema_db/contents.parquet', index = False)\n",
    "liocinema_subscribers_df.to_parquet('Parquet Data Files/01. Data Loading/LioCinema_db/subscribers.parquet', index = False)\n",
    "liocinema_content_consumption_df.to_parquet('Parquet Data Files/01. Data Loading/LioCinema_db/content_consumption.parquet', index = False)\n",
    "\n",
    "print(\"All DataFrames are saved as Parquet files successfully.\")"
   ]
  },
  {
   "cell_type": "markdown",
   "id": "a05a551a-4997-40aa-bec6-4850003f33f3",
   "metadata": {},
   "source": [
    "## Next Notebook: \"2. Data Wrangling\""
   ]
  }
 ],
 "metadata": {
  "kernelspec": {
   "display_name": "Python 3 (ipykernel)",
   "language": "python",
   "name": "python3"
  },
  "language_info": {
   "codemirror_mode": {
    "name": "ipython",
    "version": 3
   },
   "file_extension": ".py",
   "mimetype": "text/x-python",
   "name": "python",
   "nbconvert_exporter": "python",
   "pygments_lexer": "ipython3",
   "version": "3.12.4"
  }
 },
 "nbformat": 4,
 "nbformat_minor": 5
}
