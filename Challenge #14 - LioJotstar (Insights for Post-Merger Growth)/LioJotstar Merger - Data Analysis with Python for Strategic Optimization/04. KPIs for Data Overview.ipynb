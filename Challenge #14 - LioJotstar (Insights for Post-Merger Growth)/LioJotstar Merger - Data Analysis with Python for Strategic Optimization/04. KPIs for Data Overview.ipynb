{
 "cells": [
  {
   "cell_type": "markdown",
   "id": "3805c580-86be-4401-8fa5-2cac12f6e028",
   "metadata": {},
   "source": [
    "# LioJotstar Merger: Data Analysis with Python for Strategic Optimization"
   ]
  },
  {
   "cell_type": "markdown",
   "id": "28b3ecc7-dd49-4e56-842d-93edb9b56fda",
   "metadata": {},
   "source": [
    "## 4. Formulating Key Metrics for Data Overview\n",
    "This notebook focuses on formulating the essential metrics needed to create a clear and concise overview of the LioCinema and Jotstar datasets, enabling a quick understanding of their key characteristics."
   ]
  },
  {
   "cell_type": "markdown",
   "id": "8e59dcb0-7911-4135-b8f2-3bef96ed8eaf",
   "metadata": {},
   "source": [
    "### Importing Required Libraries"
   ]
  },
  {
   "cell_type": "code",
   "execution_count": 4,
   "id": "677da162-c204-4371-b1ba-27d4380b2a21",
   "metadata": {},
   "outputs": [],
   "source": [
    "import pandas as pd"
   ]
  },
  {
   "cell_type": "markdown",
   "id": "04cea5e0-f7f1-461f-9437-3c84977420e4",
   "metadata": {},
   "source": [
    "### Loading Required DataFrames from Saved Parquet Files"
   ]
  },
  {
   "cell_type": "code",
   "execution_count": 6,
   "id": "7e34939f-3503-4273-9a6b-ee277cee3554",
   "metadata": {},
   "outputs": [
    {
     "name": "stdout",
     "output_type": "stream",
     "text": [
      "Jotstar - Contents table loaded successfully.\n",
      "Jotstar - Subscribers table loaded successfully.\n",
      "Jotstar - Content Consumption table loaded successfully.\n",
      "LioCinema - Contents table loaded successfully.\n",
      "LioCinema - Subscribers table loaded successfully.\n",
      "LioCinema - Content Consumption table loaded successfully.\n",
      "\n",
      "Data Loading Complete.\n"
     ]
    }
   ],
   "source": [
    "try:\n",
    "    jotstar_contents_df = pd.read_parquet('Parquet Data Files/02. Data Wrangling/Jotstar_db/contents.parquet')\n",
    "    print(\"Jotstar - Contents table loaded successfully.\")\n",
    "    jotstar_subscribers_df = pd.read_parquet('Parquet Data Files/03. Feature Engineering/Jotstar_db/subscribers.parquet')\n",
    "    print(\"Jotstar - Subscribers table loaded successfully.\")\n",
    "    jotstar_content_consumption_df = pd.read_parquet('Parquet Data Files/02. Data Wrangling/Jotstar_db/content_consumption.parquet')\n",
    "    print(\"Jotstar - Content Consumption table loaded successfully.\")\n",
    "    liocinema_contents_df = pd.read_parquet('Parquet Data Files/02. Data Wrangling/LioCinema_db/contents.parquet')\n",
    "    print(\"LioCinema - Contents table loaded successfully.\")\n",
    "    liocinema_subscribers_df = pd.read_parquet('Parquet Data Files/03. Feature Engineering/LioCinema_db/subscribers.parquet')\n",
    "    print(\"LioCinema - Subscribers table loaded successfully.\")\n",
    "    liocinema_content_consumption_df = pd.read_parquet('Parquet Data Files/02. Data Wrangling/LioCinema_db/content_consumption.parquet')\n",
    "    print(\"LioCinema - Content Consumption table loaded successfully.\")\n",
    "    print(\"\\nData Loading Complete.\")\n",
    "    \n",
    "except FileNotFoundError as e:\n",
    "       print(\"Error: One or more Parquet files not found. Please check the file paths.\")\n",
    "       print(f\"Details: {e}\")\n",
    "except Exception as e:\n",
    "       print(\"An error occurred during data import.\")\n",
    "       print(f\"Details: {e}\")"
   ]
  },
  {
   "cell_type": "markdown",
   "id": "190ba489-d104-4f3c-a80a-336a91717481",
   "metadata": {},
   "source": [
    "### Computing KPIs for Overall Data Summary"
   ]
  },
  {
   "cell_type": "markdown",
   "id": "ea8d9aca-7812-4ed9-bd46-e65da1aeed2e",
   "metadata": {},
   "source": [
    "#### 1. Total Content Items"
   ]
  },
  {
   "cell_type": "code",
   "execution_count": 9,
   "id": "9e5dd29f-b3ae-4682-9203-ec5cfb3f5048",
   "metadata": {},
   "outputs": [
    {
     "name": "stdout",
     "output_type": "stream",
     "text": [
      "Total Content Items in Jotstar = 2360\n",
      "Total Content Items in LioCinema = 1250\n"
     ]
    }
   ],
   "source": [
    "JS_Total_Content_Items = len(jotstar_contents_df['Content ID'])\n",
    "LC_Total_Content_Items = len(liocinema_contents_df['Content ID'])\n",
    "print(f\"Total Content Items in Jotstar = {JS_Total_Content_Items}\")\n",
    "print(f\"Total Content Items in LioCinema = {LC_Total_Content_Items}\")"
   ]
  },
  {
   "cell_type": "markdown",
   "id": "cfbb2f7a-f2c3-452f-94eb-9d6e7f5281a4",
   "metadata": {},
   "source": [
    "#### 2. Total Users"
   ]
  },
  {
   "cell_type": "code",
   "execution_count": 11,
   "id": "a9ce4de6-6f3b-4fe4-a9a6-3b9540ec1a89",
   "metadata": {},
   "outputs": [
    {
     "name": "stdout",
     "output_type": "stream",
     "text": [
      "Total Users in Jotstar = 44620\n",
      "Total Users in LioCinema = 183446\n"
     ]
    }
   ],
   "source": [
    "JS_Total_Users = len(jotstar_subscribers_df['User ID'])\n",
    "LC_Total_Users = len(liocinema_subscribers_df['User ID'])\n",
    "print(f\"Total Users in Jotstar = {JS_Total_Users}\")\n",
    "print(f\"Total Users in LioCinema = {LC_Total_Users}\")"
   ]
  },
  {
   "cell_type": "markdown",
   "id": "97c684eb-a896-42c2-b53d-56a59eb58a46",
   "metadata": {},
   "source": [
    "#### 3. Paid Users"
   ]
  },
  {
   "cell_type": "code",
   "execution_count": 13,
   "id": "e07f2a0e-5415-4ac2-a48a-f29a3ecee892",
   "metadata": {},
   "outputs": [
    {
     "name": "stdout",
     "output_type": "stream",
     "text": [
      "Total Paid Users in Jotstar = 31677\n",
      "Total Paid Users in LioCinema = 63499\n"
     ]
    }
   ],
   "source": [
    "JS_Paid_Users = len(jotstar_subscribers_df[jotstar_subscribers_df['New Subscription Plan'] != \"Free\"])\n",
    "LC_Paid_Users = len(liocinema_subscribers_df[liocinema_subscribers_df['New Subscription Plan'] != \"Free\"])\n",
    "print(f\"Total Paid Users in Jotstar = {JS_Paid_Users}\")\n",
    "print(f\"Total Paid Users in LioCinema = {LC_Paid_Users}\")"
   ]
  },
  {
   "cell_type": "markdown",
   "id": "28f930b7-ade5-4e6a-a4c0-585079db3093",
   "metadata": {},
   "source": [
    "#### 4. Paid Users %"
   ]
  },
  {
   "cell_type": "code",
   "execution_count": 15,
   "id": "e0dcba36-ee3a-46b1-bc60-695292d10fef",
   "metadata": {},
   "outputs": [
    {
     "name": "stdout",
     "output_type": "stream",
     "text": [
      "Paid Users account for 71% of the Total Users in Jotstar.\n",
      "Paid Users account for 35% of the Total Users in LioCinema.\n"
     ]
    }
   ],
   "source": [
    "JS_Paid_Users_pct = round((JS_Paid_Users/JS_Total_Users) * 100)\n",
    "LC_Paid_Users_pct = round((LC_Paid_Users/LC_Total_Users) * 100)\n",
    "print(f\"Paid Users account for {JS_Paid_Users_pct}% of the Total Users in Jotstar.\")\n",
    "print(f\"Paid Users account for {LC_Paid_Users_pct}% of the Total Users in LioCinema.\")"
   ]
  },
  {
   "cell_type": "markdown",
   "id": "c13b4fa0-a866-412d-b0c3-9f2444c3ff8f",
   "metadata": {},
   "source": [
    "#### 5. Active Users"
   ]
  },
  {
   "cell_type": "code",
   "execution_count": 17,
   "id": "427d7262-d85f-4cac-985f-5b369310123b",
   "metadata": {},
   "outputs": [
    {
     "name": "stdout",
     "output_type": "stream",
     "text": [
      "Total Active Users in Jotstar = 37968\n",
      "Total Active Users in LioCinema = 101141\n"
     ]
    }
   ],
   "source": [
    "JS_Active_Users = len(jotstar_subscribers_df[jotstar_subscribers_df['Last Active Date'].isnull() == True])\n",
    "LC_Active_Users = len(liocinema_subscribers_df[liocinema_subscribers_df['Last Active Date'].isnull() == True])\n",
    "print(f\"Total Active Users in Jotstar = {JS_Active_Users}\")\n",
    "print(f\"Total Active Users in LioCinema = {LC_Active_Users}\")"
   ]
  },
  {
   "cell_type": "markdown",
   "id": "6881855a-3918-4fa2-803f-da39c0934ba8",
   "metadata": {},
   "source": [
    "#### 6. Inactive Users"
   ]
  },
  {
   "cell_type": "code",
   "execution_count": 19,
   "id": "364293bc-da69-4869-9acf-c2fddcad5915",
   "metadata": {},
   "outputs": [
    {
     "name": "stdout",
     "output_type": "stream",
     "text": [
      "Total Inactive Users in Jotstar = 6652\n",
      "Total Inactive Users in LioCinema = 82305\n"
     ]
    }
   ],
   "source": [
    "JS_Inactive_Users = len(jotstar_subscribers_df[jotstar_subscribers_df['Last Active Date'].isnull() == False])\n",
    "LC_Inactive_Users = len(liocinema_subscribers_df[liocinema_subscribers_df['Last Active Date'].isnull() == False])\n",
    "print(f\"Total Inactive Users in Jotstar = {JS_Inactive_Users}\")\n",
    "print(f\"Total Inactive Users in LioCinema = {LC_Inactive_Users}\")"
   ]
  },
  {
   "cell_type": "markdown",
   "id": "54622560-14fc-45e5-8b81-097e5a202bd2",
   "metadata": {},
   "source": [
    "#### 7. Active Rate (%)"
   ]
  },
  {
   "cell_type": "code",
   "execution_count": 21,
   "id": "a11f35ed-bc42-4146-aef8-489a6d9fcb9d",
   "metadata": {},
   "outputs": [
    {
     "name": "stdout",
     "output_type": "stream",
     "text": [
      "Jotstar's Active User Rate is 85%.\n",
      "LioCinema's Active User Rate is 55%.\n"
     ]
    }
   ],
   "source": [
    "JS_Active_Rate = round((JS_Active_Users/JS_Total_Users) * 100)\n",
    "LC_Active_Rate = round((LC_Active_Users/LC_Total_Users) * 100)\n",
    "print(f\"Jotstar's Active User Rate is {JS_Active_Rate}%.\")\n",
    "print(f\"LioCinema's Active User Rate is {LC_Active_Rate}%.\")"
   ]
  },
  {
   "cell_type": "markdown",
   "id": "52513090-c23f-4275-a36a-5c1c11502d9c",
   "metadata": {},
   "source": [
    "#### 8. Inactive Rate (%)"
   ]
  },
  {
   "cell_type": "code",
   "execution_count": 23,
   "id": "85ae980b-4d8a-45ba-a1d7-560ac7a7d11a",
   "metadata": {},
   "outputs": [
    {
     "name": "stdout",
     "output_type": "stream",
     "text": [
      "Jotstar's Inactive User Rate is 15%.\n",
      "LioCinema's Inactive User Rate is 45%.\n"
     ]
    }
   ],
   "source": [
    "JS_Inactive_Rate = round((JS_Inactive_Users/JS_Total_Users) * 100)\n",
    "LC_Inactive_Rate = round((LC_Inactive_Users/LC_Total_Users) * 100)\n",
    "print(f\"Jotstar's Inactive User Rate is {JS_Inactive_Rate}%.\")\n",
    "print(f\"LioCinema's Inactive User Rate is {LC_Inactive_Rate}%.\")"
   ]
  },
  {
   "cell_type": "markdown",
   "id": "3cd4a8a1-a4ee-4173-8532-556d003ce194",
   "metadata": {},
   "source": [
    "#### 9. Upgraded Users"
   ]
  },
  {
   "cell_type": "code",
   "execution_count": 25,
   "id": "49f72085-4dbc-40e5-ad77-198b60e7dc22",
   "metadata": {},
   "outputs": [
    {
     "name": "stdout",
     "output_type": "stream",
     "text": [
      "Total Upgraded Users in Jotstar = 4348\n",
      "Total Upgraded Users in LioCinema = 4155\n"
     ]
    }
   ],
   "source": [
    "JS_Upgraded_Users = len(jotstar_subscribers_df[jotstar_subscribers_df['Plan Change Type'] == \"Upgrade\"])\n",
    "LC_Upgraded_Users = len(liocinema_subscribers_df[liocinema_subscribers_df['Plan Change Type'] == \"Upgrade\"])\n",
    "print(f\"Total Upgraded Users in Jotstar = {JS_Upgraded_Users}\")\n",
    "print(f\"Total Upgraded Users in LioCinema = {LC_Upgraded_Users}\")"
   ]
  },
  {
   "cell_type": "markdown",
   "id": "65e2024d-b013-4b20-8c7a-de73f97c2358",
   "metadata": {},
   "source": [
    "#### 10. Upgrade Rate (%)"
   ]
  },
  {
   "cell_type": "code",
   "execution_count": 27,
   "id": "d6a12c12-3558-4585-acf8-5d33fc931fd8",
   "metadata": {},
   "outputs": [
    {
     "name": "stdout",
     "output_type": "stream",
     "text": [
      "Jotstar's Upgrade Rate is 10%.\n",
      "LioCinema's Upgrade Rate is 2%.\n"
     ]
    }
   ],
   "source": [
    "JS_Upgrade_Rate = round((JS_Upgraded_Users/JS_Total_Users) * 100)\n",
    "LC_Upgrade_Rate = round((LC_Upgraded_Users/LC_Total_Users) * 100)\n",
    "print(f\"Jotstar's Upgrade Rate is {JS_Upgrade_Rate}%.\")\n",
    "print(f\"LioCinema's Upgrade Rate is {LC_Upgrade_Rate}%.\")"
   ]
  },
  {
   "cell_type": "markdown",
   "id": "24a4d95c-2b4f-4cb4-b49a-b6ab31251e13",
   "metadata": {},
   "source": [
    "#### 11. Downgraded Users"
   ]
  },
  {
   "cell_type": "code",
   "execution_count": 29,
   "id": "3a6a3a3d-1aaa-4b53-a679-1f2f21ef307c",
   "metadata": {},
   "outputs": [
    {
     "name": "stdout",
     "output_type": "stream",
     "text": [
      "Total Downgraded Users in Jotstar = 2742\n",
      "Total Downgraded Users in LioCinema = 20859\n"
     ]
    }
   ],
   "source": [
    "JS_Downgraded_Users = len(jotstar_subscribers_df[jotstar_subscribers_df['Plan Change Type'] == \"Downgrade\"])\n",
    "LC_Downgraded_Users = len(liocinema_subscribers_df[liocinema_subscribers_df['Plan Change Type'] == \"Downgrade\"])\n",
    "print(f\"Total Downgraded Users in Jotstar = {JS_Downgraded_Users}\")\n",
    "print(f\"Total Downgraded Users in LioCinema = {LC_Downgraded_Users}\")"
   ]
  },
  {
   "cell_type": "markdown",
   "id": "01e616f6-22de-4587-973b-e09280cc05d9",
   "metadata": {},
   "source": [
    "#### 12. Downgrade Rate (%)"
   ]
  },
  {
   "cell_type": "code",
   "execution_count": 31,
   "id": "d69459fe-34f2-456c-90a0-13b21d4653bc",
   "metadata": {},
   "outputs": [
    {
     "name": "stdout",
     "output_type": "stream",
     "text": [
      "Jotstar's Downgrade Rate is 6%.\n",
      "LioCinema's Downgrade Rate is 11%.\n"
     ]
    }
   ],
   "source": [
    "JS_Downgrade_Rate = round((JS_Downgraded_Users/JS_Total_Users) * 100)\n",
    "LC_Downgrade_Rate = round((LC_Downgraded_Users/LC_Total_Users) * 100)\n",
    "print(f\"Jotstar's Downgrade Rate is {JS_Downgrade_Rate}%.\")\n",
    "print(f\"LioCinema's Downgrade Rate is {LC_Downgrade_Rate}%.\")"
   ]
  },
  {
   "cell_type": "markdown",
   "id": "7bfb604b-68ce-415e-b8bf-e8e25bdef9d9",
   "metadata": {},
   "source": [
    "#### 13. Total Watch Time (hrs)"
   ]
  },
  {
   "cell_type": "code",
   "execution_count": 33,
   "id": "a3deb61e-ee83-45f9-8d64-42596d7c5082",
   "metadata": {},
   "outputs": [
    {
     "name": "stdout",
     "output_type": "stream",
     "text": [
      "Total Watch Time for Jotstar: 16 Million hours\n",
      "Total Watch Time for LioCinema: 11 Million hours\n"
     ]
    }
   ],
   "source": [
    "JS_Total_Watch_Time_mins = jotstar_content_consumption_df['Total Watch Time (mins)'].sum()\n",
    "JS_Total_Watch_Time_hrs = round(JS_Total_Watch_Time_mins/60, 2)\n",
    "print(f\"Total Watch Time for Jotstar: {round(JS_Total_Watch_Time_hrs / 1_000_000)} Million hours\")\n",
    "LC_Total_Watch_Time_mins = liocinema_content_consumption_df['Total Watch Time (mins)'].sum()\n",
    "LC_Total_Watch_Time_hrs = round(LC_Total_Watch_Time_mins/60, 2)\n",
    "print(f\"Total Watch Time for LioCinema: {round(LC_Total_Watch_Time_hrs / 1_000_000)} Million hours\")"
   ]
  },
  {
   "cell_type": "markdown",
   "id": "f0b14512-c7ca-436b-bd46-077068a7314e",
   "metadata": {},
   "source": [
    "#### 14. Average Watch Time (hrs)"
   ]
  },
  {
   "cell_type": "code",
   "execution_count": 35,
   "id": "8db77fdd-58ea-43c8-a0f4-76ea3fe867c7",
   "metadata": {},
   "outputs": [
    {
     "name": "stdout",
     "output_type": "stream",
     "text": [
      "Average Watch Time for Jotstar: 117.2 hours\n",
      "Average Watch Time for LioCinema: 25.6 hours\n"
     ]
    }
   ],
   "source": [
    "JS_Average_Watch_Time_mins = jotstar_content_consumption_df['Total Watch Time (mins)'].mean()\n",
    "JS_Average_Watch_Time_hrs = round(JS_Average_Watch_Time_mins/60, 2)\n",
    "print(f\"Average Watch Time for Jotstar: {round(JS_Average_Watch_Time_hrs, 1)} hours\")\n",
    "LC_Average_Watch_Time_mins = liocinema_content_consumption_df['Total Watch Time (mins)'].mean()\n",
    "LC_Average_Watch_Time_hrs = round(LC_Average_Watch_Time_mins/60, 2)\n",
    "print(f\"Average Watch Time for LioCinema: {round(LC_Average_Watch_Time_hrs, 1)} hours\")"
   ]
  },
  {
   "cell_type": "markdown",
   "id": "dbd38871-d26b-47ad-9b7b-8e15c309189e",
   "metadata": {},
   "source": [
    "#### 15. Upgrade vs. Downgrade Rate (%)"
   ]
  },
  {
   "cell_type": "code",
   "execution_count": 37,
   "id": "9231ec43-107e-4bad-8f39-3d9106baf36f",
   "metadata": {},
   "outputs": [
    {
     "name": "stdout",
     "output_type": "stream",
     "text": [
      "For Jotstar, the Upgrade vs. Downgrade Rate is approximately 159%.\n",
      "For LioCinema, the Upgrade vs. Downgrade Rate is approximately 20%.\n"
     ]
    }
   ],
   "source": [
    "JS_Upgrade_vs_Downgrade_Rate = round((JS_Upgraded_Users/JS_Downgraded_Users) * 100)\n",
    "LC_Upgrade_vs_Downgrade_Rate = round((LC_Upgraded_Users/LC_Downgraded_Users) * 100)\n",
    "print(f\"For Jotstar, the Upgrade vs. Downgrade Rate is approximately {JS_Upgrade_vs_Downgrade_Rate}%.\")\n",
    "print(f\"For LioCinema, the Upgrade vs. Downgrade Rate is approximately {LC_Upgrade_vs_Downgrade_Rate}%.\")"
   ]
  },
  {
   "cell_type": "markdown",
   "id": "a5f6ae9e-477f-4deb-af87-9ef573169ad0",
   "metadata": {},
   "source": [
    "#### Upcoming Section... \n",
    "### 'Data Analysis & Visualization' across seven objectives:\n",
    "##### 1. Content Library\n",
    "##### 2. Subscribers\n",
    "##### 3. Inactivity\n",
    "##### 4. Upgrades\n",
    "##### 5. Downgrades\n",
    "##### 6. Engagement\n",
    "##### 7. Revenue"
   ]
  },
  {
   "cell_type": "markdown",
   "id": "772c40fc-9839-423b-b88e-583d9729b011",
   "metadata": {},
   "source": [
    "## Next Notebook: \"5. Exploring Content Diversity Across Platforms\""
   ]
  }
 ],
 "metadata": {
  "kernelspec": {
   "display_name": "Python 3 (ipykernel)",
   "language": "python",
   "name": "python3"
  },
  "language_info": {
   "codemirror_mode": {
    "name": "ipython",
    "version": 3
   },
   "file_extension": ".py",
   "mimetype": "text/x-python",
   "name": "python",
   "nbconvert_exporter": "python",
   "pygments_lexer": "ipython3",
   "version": "3.12.4"
  }
 },
 "nbformat": 4,
 "nbformat_minor": 5
}
