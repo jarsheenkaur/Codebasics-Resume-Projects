{
 "cells": [
  {
   "cell_type": "markdown",
   "id": "773f92e7-7984-41e6-a6f4-93aab12871cb",
   "metadata": {},
   "source": [
    "# LioJotstar Merger: Data Analysis with Python for Strategic Optimization"
   ]
  },
  {
   "cell_type": "markdown",
   "id": "bab989ad-7a26-4a6e-b056-518c0fe225be",
   "metadata": {},
   "source": [
    "## 2. Data Wrangling\n",
    "This notebook performs data cleaning tasks such as handling missing values, correcting data types, and preparing the DataFrames for feature engineering and analysis."
   ]
  },
  {
   "cell_type": "markdown",
   "id": "3a95c4bb-982f-49da-a07e-e4c989f143ae",
   "metadata": {},
   "source": [
    "### Importing Required Libraries"
   ]
  },
  {
   "cell_type": "code",
   "execution_count": 4,
   "id": "92a7708b-4a85-4d8d-b5e9-fddf6fb5191f",
   "metadata": {},
   "outputs": [],
   "source": [
    "import pandas as pd\n",
    "import numpy as np"
   ]
  },
  {
   "cell_type": "markdown",
   "id": "94de0390-86dd-4026-a787-2bb78a30358d",
   "metadata": {},
   "source": [
    "### Loading DataFrames from Saved Parquet Files"
   ]
  },
  {
   "cell_type": "code",
   "execution_count": 6,
   "id": "06f17429-a879-48be-b265-f9e6dee8f6c4",
   "metadata": {},
   "outputs": [
    {
     "name": "stdout",
     "output_type": "stream",
     "text": [
      "Jotstar - Contents table loaded successfully.\n",
      "Jotstar - Subscribers table loaded successfully.\n",
      "Jotstar - Content Consumption table loaded successfully.\n",
      "LioCinema - Contents table loaded successfully.\n",
      "LioCinema - Subscribers table loaded successfully.\n",
      "LioCinema - Content Consumption table loaded successfully.\n",
      "\n",
      "Data Loading Complete.\n"
     ]
    }
   ],
   "source": [
    "try:\n",
    "    jotstar_contents_df = pd.read_parquet('Parquet Data Files/01. Data Loading/Jotstar_db/contents.parquet')\n",
    "    print(\"Jotstar - Contents table loaded successfully.\")\n",
    "    jotstar_subscribers_df = pd.read_parquet('Parquet Data Files/01. Data Loading/Jotstar_db/subscribers.parquet')\n",
    "    print(\"Jotstar - Subscribers table loaded successfully.\")\n",
    "    jotstar_content_consumption_df = pd.read_parquet('Parquet Data Files/01. Data Loading/Jotstar_db/content_consumption.parquet')\n",
    "    print(\"Jotstar - Content Consumption table loaded successfully.\")\n",
    "    liocinema_contents_df = pd.read_parquet('Parquet Data Files/01. Data Loading/LioCinema_db/contents.parquet')\n",
    "    print(\"LioCinema - Contents table loaded successfully.\")\n",
    "    liocinema_subscribers_df = pd.read_parquet('Parquet Data Files/01. Data Loading/LioCinema_db/subscribers.parquet')\n",
    "    print(\"LioCinema - Subscribers table loaded successfully.\")\n",
    "    liocinema_content_consumption_df = pd.read_parquet('Parquet Data Files/01. Data Loading/LioCinema_db/content_consumption.parquet')\n",
    "    print(\"LioCinema - Content Consumption table loaded successfully.\")\n",
    "    print(\"\\nData Loading Complete.\")\n",
    "    \n",
    "except FileNotFoundError as e:\n",
    "       print(\"Error: One or more Parquet files not found. Please check the file paths.\")\n",
    "       print(f\"Details: {e}\")\n",
    "except Exception as e:\n",
    "       print(\"An error occurred during data import.\")\n",
    "       print(f\"Details: {e}\")"
   ]
  },
  {
   "cell_type": "markdown",
   "id": "02374124-c82b-4fe0-a345-b247217313f2",
   "metadata": {},
   "source": [
    "### Checking and Correcting Data Format"
   ]
  },
  {
   "cell_type": "code",
   "execution_count": 8,
   "id": "4f00106b-2c15-44dd-a223-45ff2c0cee65",
   "metadata": {},
   "outputs": [
    {
     "data": {
      "text/plain": [
       "Content ID         object\n",
       "Content Type       object\n",
       "Language           object\n",
       "Genre              object\n",
       "Run Time (mins)     int64\n",
       "dtype: object"
      ]
     },
     "execution_count": 8,
     "metadata": {},
     "output_type": "execute_result"
    }
   ],
   "source": [
    "jotstar_contents_df.dtypes"
   ]
  },
  {
   "cell_type": "code",
   "execution_count": 9,
   "id": "621a2c3b-8843-44ac-91cd-3df884c9da8d",
   "metadata": {},
   "outputs": [
    {
     "data": {
      "text/plain": [
       "User ID                  object\n",
       "Age Group                object\n",
       "City Tier                object\n",
       "Subscription Date        object\n",
       "Subscription Plan        object\n",
       "Last Active Date         object\n",
       "Plan Change Date         object\n",
       "New Subscription Plan    object\n",
       "dtype: object"
      ]
     },
     "execution_count": 9,
     "metadata": {},
     "output_type": "execute_result"
    }
   ],
   "source": [
    "jotstar_subscribers_df.dtypes"
   ]
  },
  {
   "cell_type": "code",
   "execution_count": 10,
   "id": "6af06161-a482-4391-a4c2-80b416b7d73b",
   "metadata": {},
   "outputs": [
    {
     "name": "stdout",
     "output_type": "stream",
     "text": [
      "Correcting data type of Date columns in Jotstar Subscribers table\n"
     ]
    },
    {
     "data": {
      "text/plain": [
       "User ID                          object\n",
       "Age Group                        object\n",
       "City Tier                        object\n",
       "Subscription Date        datetime64[ns]\n",
       "Subscription Plan                object\n",
       "Last Active Date         datetime64[ns]\n",
       "Plan Change Date         datetime64[ns]\n",
       "New Subscription Plan            object\n",
       "dtype: object"
      ]
     },
     "execution_count": 10,
     "metadata": {},
     "output_type": "execute_result"
    }
   ],
   "source": [
    "print(\"Correcting data type of Date columns in Jotstar Subscribers table\")\n",
    "jotstar_subscribers_df['Subscription Date'] = pd.to_datetime(jotstar_subscribers_df['Subscription Date'])\n",
    "jotstar_subscribers_df['Last Active Date'] = pd.to_datetime(jotstar_subscribers_df['Last Active Date'])\n",
    "jotstar_subscribers_df['Plan Change Date'] = pd.to_datetime(jotstar_subscribers_df['Plan Change Date'])\n",
    "jotstar_subscribers_df.dtypes"
   ]
  },
  {
   "cell_type": "code",
   "execution_count": 11,
   "id": "0877ca85-5ac1-4369-856e-ae6d65f45e6a",
   "metadata": {},
   "outputs": [
    {
     "data": {
      "text/plain": [
       "User ID                    object\n",
       "Device Type                object\n",
       "Total Watch Time (mins)     int64\n",
       "dtype: object"
      ]
     },
     "execution_count": 11,
     "metadata": {},
     "output_type": "execute_result"
    }
   ],
   "source": [
    "jotstar_content_consumption_df.dtypes"
   ]
  },
  {
   "cell_type": "code",
   "execution_count": 12,
   "id": "8323ab8d-0735-431b-ac88-ca69f71d170b",
   "metadata": {},
   "outputs": [
    {
     "data": {
      "text/plain": [
       "Content ID         object\n",
       "Content Type       object\n",
       "Language           object\n",
       "Genre              object\n",
       "Run Time (mins)     int64\n",
       "dtype: object"
      ]
     },
     "execution_count": 12,
     "metadata": {},
     "output_type": "execute_result"
    }
   ],
   "source": [
    "liocinema_contents_df.dtypes"
   ]
  },
  {
   "cell_type": "code",
   "execution_count": 13,
   "id": "68fd8f2c-f4a7-4a61-a316-20fc4b76177a",
   "metadata": {},
   "outputs": [
    {
     "data": {
      "text/plain": [
       "User ID                  object\n",
       "Age Group                object\n",
       "City Tier                object\n",
       "Subscription Date        object\n",
       "Subscription Plan        object\n",
       "Last Active Date         object\n",
       "Plan Change Date         object\n",
       "New Subscription Plan    object\n",
       "dtype: object"
      ]
     },
     "execution_count": 13,
     "metadata": {},
     "output_type": "execute_result"
    }
   ],
   "source": [
    "liocinema_subscribers_df.dtypes"
   ]
  },
  {
   "cell_type": "code",
   "execution_count": 14,
   "id": "c6b9c69a-8737-417c-8463-232063b0d9f9",
   "metadata": {},
   "outputs": [
    {
     "name": "stdout",
     "output_type": "stream",
     "text": [
      "Correcting data type of Date columns in LioCinema Subscribers table\n"
     ]
    },
    {
     "data": {
      "text/plain": [
       "User ID                          object\n",
       "Age Group                        object\n",
       "City Tier                        object\n",
       "Subscription Date        datetime64[ns]\n",
       "Subscription Plan                object\n",
       "Last Active Date         datetime64[ns]\n",
       "Plan Change Date         datetime64[ns]\n",
       "New Subscription Plan            object\n",
       "dtype: object"
      ]
     },
     "execution_count": 14,
     "metadata": {},
     "output_type": "execute_result"
    }
   ],
   "source": [
    "print(\"Correcting data type of Date columns in LioCinema Subscribers table\")\n",
    "liocinema_subscribers_df['Subscription Date'] = pd.to_datetime(liocinema_subscribers_df['Subscription Date'])\n",
    "liocinema_subscribers_df['Last Active Date'] = pd.to_datetime(liocinema_subscribers_df['Last Active Date'])\n",
    "liocinema_subscribers_df['Plan Change Date'] = pd.to_datetime(liocinema_subscribers_df['Plan Change Date'])\n",
    "liocinema_subscribers_df.dtypes"
   ]
  },
  {
   "cell_type": "code",
   "execution_count": 15,
   "id": "b37c3a60-74ab-43c7-ab86-19cc94ffef67",
   "metadata": {},
   "outputs": [
    {
     "data": {
      "text/plain": [
       "User ID                    object\n",
       "Device Type                object\n",
       "Total Watch Time (mins)     int64\n",
       "dtype: object"
      ]
     },
     "execution_count": 15,
     "metadata": {},
     "output_type": "execute_result"
    }
   ],
   "source": [
    "liocinema_content_consumption_df.dtypes"
   ]
  },
  {
   "cell_type": "markdown",
   "id": "c58e8651-8351-402c-9cd9-efee4b1bc695",
   "metadata": {},
   "source": [
    "### Checking and Handling Null Values"
   ]
  },
  {
   "cell_type": "code",
   "execution_count": 17,
   "id": "95e37ca3-1197-406c-98e5-7be6f8932978",
   "metadata": {},
   "outputs": [
    {
     "data": {
      "text/plain": [
       "Content ID         0\n",
       "Content Type       0\n",
       "Language           0\n",
       "Genre              0\n",
       "Run Time (mins)    0\n",
       "dtype: int64"
      ]
     },
     "execution_count": 17,
     "metadata": {},
     "output_type": "execute_result"
    }
   ],
   "source": [
    "jotstar_contents_df.isnull().sum()\n",
    "# No null values found in Jotstar Contents table"
   ]
  },
  {
   "cell_type": "code",
   "execution_count": 18,
   "id": "010fbdda-16cd-4e4c-8e30-a4d2277f5f3d",
   "metadata": {},
   "outputs": [
    {
     "name": "stdout",
     "output_type": "stream",
     "text": [
      "User ID                      0\n",
      "Age Group                    0\n",
      "City Tier                    0\n",
      "Subscription Date            0\n",
      "Subscription Plan            0\n",
      "Last Active Date         37968\n",
      "Plan Change Date         37530\n",
      "New Subscription Plan    37530\n",
      "dtype: int64\n"
     ]
    }
   ],
   "source": [
    "print(jotstar_subscribers_df.isnull().sum())"
   ]
  },
  {
   "cell_type": "code",
   "execution_count": 19,
   "id": "94e4ff55-628e-4f88-a3e5-71b726fb50fd",
   "metadata": {},
   "outputs": [
    {
     "name": "stdout",
     "output_type": "stream",
     "text": [
      "Multiple null values found in 3 columns of Jotstar Subscribers table\n",
      "\n",
      "Issue 1: Active users have NULL in Last Active Date.\n",
      "Solution 1: Will keep it as it is to reflect them as Active Users.\n",
      "\n",
      "Issue 2: Users who never upgraded/downgraded have NULL in Plan Change Date.\n",
      "Solution 2: Will keep it as it is to reflect No Change in Subscription Plans.\n",
      "\n",
      "Issue 3: Users who never changed their plans have NULL in New Subscription Plan.\n",
      "Solution 3: Replace NULL with their Subscription Plan value.\n",
      "\n",
      "After Changes...\n",
      "User ID                      0\n",
      "Age Group                    0\n",
      "City Tier                    0\n",
      "Subscription Date            0\n",
      "Subscription Plan            0\n",
      "Last Active Date         37968\n",
      "Plan Change Date         37530\n",
      "New Subscription Plan        0\n",
      "dtype: int64\n"
     ]
    }
   ],
   "source": [
    "print(\"Multiple null values found in 3 columns of Jotstar Subscribers table\")\n",
    "print(\"\\nIssue 1: Active users have NULL in Last Active Date.\")\n",
    "print(\"Solution 1: Will keep it as it is to reflect them as Active Users.\")\n",
    "print(\"\\nIssue 2: Users who never upgraded/downgraded have NULL in Plan Change Date.\")\n",
    "print(\"Solution 2: Will keep it as it is to reflect No Change in Subscription Plans.\")\n",
    "print(\"\\nIssue 3: Users who never changed their plans have NULL in New Subscription Plan.\")\n",
    "print(\"Solution 3: Replace NULL with their Subscription Plan value.\")\n",
    "jotstar_subscribers_df['New Subscription Plan'] = jotstar_subscribers_df['New Subscription Plan'].replace({None : np.nan})\n",
    "jotstar_subscribers_df['New Subscription Plan'] = jotstar_subscribers_df['New Subscription Plan'].fillna(jotstar_subscribers_df\n",
    "                                                                                                         ['Subscription Plan'])\n",
    "print(\"\\nAfter Changes...\")\n",
    "print(jotstar_subscribers_df.isnull().sum())"
   ]
  },
  {
   "cell_type": "code",
   "execution_count": 20,
   "id": "9d2cdb06-5448-43de-bb18-887639d51c2a",
   "metadata": {},
   "outputs": [
    {
     "data": {
      "text/plain": [
       "User ID                    0\n",
       "Device Type                0\n",
       "Total Watch Time (mins)    0\n",
       "dtype: int64"
      ]
     },
     "execution_count": 20,
     "metadata": {},
     "output_type": "execute_result"
    }
   ],
   "source": [
    "jotstar_content_consumption_df.isnull().sum()\n",
    "# No null values found in Jotstar Content Consumption table"
   ]
  },
  {
   "cell_type": "code",
   "execution_count": 21,
   "id": "8bdc91e1-f204-4df1-b613-95a263ab6115",
   "metadata": {},
   "outputs": [
    {
     "data": {
      "text/plain": [
       "Content ID         0\n",
       "Content Type       0\n",
       "Language           0\n",
       "Genre              0\n",
       "Run Time (mins)    0\n",
       "dtype: int64"
      ]
     },
     "execution_count": 21,
     "metadata": {},
     "output_type": "execute_result"
    }
   ],
   "source": [
    "liocinema_contents_df.isnull().sum()\n",
    "# No null values found in LioCinema Contents table"
   ]
  },
  {
   "cell_type": "code",
   "execution_count": 22,
   "id": "142829d5-8a26-4e24-ba61-88e9717b2908",
   "metadata": {},
   "outputs": [
    {
     "name": "stdout",
     "output_type": "stream",
     "text": [
      "User ID                       0\n",
      "Age Group                     0\n",
      "City Tier                     0\n",
      "Subscription Date             0\n",
      "Subscription Plan             0\n",
      "Last Active Date         101141\n",
      "Plan Change Date         158432\n",
      "New Subscription Plan    158432\n",
      "dtype: int64\n"
     ]
    }
   ],
   "source": [
    "print(liocinema_subscribers_df.isnull().sum())"
   ]
  },
  {
   "cell_type": "code",
   "execution_count": 23,
   "id": "2bebbe01-7f4c-4377-a518-a56ca7af2958",
   "metadata": {},
   "outputs": [
    {
     "name": "stdout",
     "output_type": "stream",
     "text": [
      "Multiple null values found in 3 columns of LioCinema Subscribers table\n",
      "\n",
      "Issue 1: Active users have NULL in Last Active Date.\n",
      "Solution 1: Will keep it as it is to reflect them as Active Users.\n",
      "\n",
      "Issue 2: Users who never upgraded/downgraded have NULL in Plan Change Date.\n",
      "Solution 2: Will keep it as it is to reflect No Change in Subscription Plans.\n",
      "\n",
      "Issue 3: Users who never changed their plans have NULL in New Subscription Plan.\n",
      "Solution 3: Replace NULL with their Subscription Plan value.\n",
      "\n",
      "After Changes...\n",
      "User ID                       0\n",
      "Age Group                     0\n",
      "City Tier                     0\n",
      "Subscription Date             0\n",
      "Subscription Plan             0\n",
      "Last Active Date         101141\n",
      "Plan Change Date         158432\n",
      "New Subscription Plan         0\n",
      "dtype: int64\n"
     ]
    }
   ],
   "source": [
    "print(\"Multiple null values found in 3 columns of LioCinema Subscribers table\")\n",
    "print(\"\\nIssue 1: Active users have NULL in Last Active Date.\")\n",
    "print(\"Solution 1: Will keep it as it is to reflect them as Active Users.\")\n",
    "print(\"\\nIssue 2: Users who never upgraded/downgraded have NULL in Plan Change Date.\")\n",
    "print(\"Solution 2: Will keep it as it is to reflect No Change in Subscription Plans.\")\n",
    "print(\"\\nIssue 3: Users who never changed their plans have NULL in New Subscription Plan.\")\n",
    "print(\"Solution 3: Replace NULL with their Subscription Plan value.\")\n",
    "liocinema_subscribers_df['New Subscription Plan'] = liocinema_subscribers_df['New Subscription Plan'].replace({None : np.nan})\n",
    "liocinema_subscribers_df['New Subscription Plan'] = liocinema_subscribers_df['New Subscription Plan'].fillna(liocinema_subscribers_df\n",
    "                                                                                                             ['Subscription Plan'])\n",
    "print(\"\\nAfter Changes...\")\n",
    "print(liocinema_subscribers_df.isnull().sum())"
   ]
  },
  {
   "cell_type": "code",
   "execution_count": 24,
   "id": "4e320d8c-4e38-49cf-ae28-8c66ae59f9fa",
   "metadata": {},
   "outputs": [
    {
     "data": {
      "text/plain": [
       "User ID                    0\n",
       "Device Type                0\n",
       "Total Watch Time (mins)    0\n",
       "dtype: int64"
      ]
     },
     "execution_count": 24,
     "metadata": {},
     "output_type": "execute_result"
    }
   ],
   "source": [
    "liocinema_content_consumption_df.isnull().sum()\n",
    "# No null values found in LioCinema Content Consumption table"
   ]
  },
  {
   "cell_type": "markdown",
   "id": "78f2761b-f5e9-41f3-a2c4-05d9c9cc59f3",
   "metadata": {},
   "source": [
    "### Checking for Duplicates"
   ]
  },
  {
   "cell_type": "code",
   "execution_count": 26,
   "id": "9963f927-eb5e-4612-8cb0-a9ef1906a2f0",
   "metadata": {},
   "outputs": [
    {
     "data": {
      "text/plain": [
       "0"
      ]
     },
     "execution_count": 26,
     "metadata": {},
     "output_type": "execute_result"
    }
   ],
   "source": [
    "jotstar_contents_df.duplicated().sum()\n",
    "# No duplicates found in Jotstar Contents table"
   ]
  },
  {
   "cell_type": "code",
   "execution_count": 27,
   "id": "cafdd78c-54b7-41ac-80bb-3e1beed64c43",
   "metadata": {},
   "outputs": [
    {
     "data": {
      "text/plain": [
       "0"
      ]
     },
     "execution_count": 27,
     "metadata": {},
     "output_type": "execute_result"
    }
   ],
   "source": [
    "jotstar_subscribers_df.duplicated().sum()\n",
    "# No duplicates found in Jotstar Subscribers table"
   ]
  },
  {
   "cell_type": "code",
   "execution_count": 28,
   "id": "01f3e0cb-9c43-4e73-90ed-d34cd7dae69d",
   "metadata": {},
   "outputs": [
    {
     "data": {
      "text/plain": [
       "0"
      ]
     },
     "execution_count": 28,
     "metadata": {},
     "output_type": "execute_result"
    }
   ],
   "source": [
    "jotstar_content_consumption_df.duplicated().sum()\n",
    "# No duplicates found in Jotstar Content Consumption table"
   ]
  },
  {
   "cell_type": "code",
   "execution_count": 29,
   "id": "9192a26c-f19e-41db-ae01-f3679f183b7e",
   "metadata": {},
   "outputs": [
    {
     "data": {
      "text/plain": [
       "0"
      ]
     },
     "execution_count": 29,
     "metadata": {},
     "output_type": "execute_result"
    }
   ],
   "source": [
    "liocinema_contents_df.duplicated().sum()\n",
    "# No duplicates found in LioCinema Contents table"
   ]
  },
  {
   "cell_type": "code",
   "execution_count": 30,
   "id": "52abddba-0e4c-4d40-8c31-73fee5a5d2b0",
   "metadata": {},
   "outputs": [
    {
     "data": {
      "text/plain": [
       "0"
      ]
     },
     "execution_count": 30,
     "metadata": {},
     "output_type": "execute_result"
    }
   ],
   "source": [
    "liocinema_subscribers_df.duplicated().sum()\n",
    "# No duplicates found in LioCinema Subscribers table"
   ]
  },
  {
   "cell_type": "code",
   "execution_count": 31,
   "id": "83312177-e932-4ec3-a028-328de204cef0",
   "metadata": {},
   "outputs": [
    {
     "data": {
      "text/plain": [
       "0"
      ]
     },
     "execution_count": 31,
     "metadata": {},
     "output_type": "execute_result"
    }
   ],
   "source": [
    "liocinema_content_consumption_df.duplicated().sum()\n",
    "# No duplicates found in LioCinema Content Consumption table"
   ]
  },
  {
   "cell_type": "markdown",
   "id": "a085d8b7-e06b-45ac-ad37-15e64591a35a",
   "metadata": {},
   "source": [
    "### Checking for Values Inconcistencies and Correcting (if any)"
   ]
  },
  {
   "cell_type": "code",
   "execution_count": 33,
   "id": "2f830e07-c5a6-4d6e-a201-ec89a09de5ee",
   "metadata": {},
   "outputs": [
    {
     "name": "stdout",
     "output_type": "stream",
     "text": [
      "Unique Values in Content Type Column\n",
      "['Movie' 'Series' 'Sports']\n",
      "Unique Values in Language Column\n",
      "['Bengali' 'English' 'Gujarati' 'Hindi' 'Kannada' 'Malayalam' 'Marathi'\n",
      " 'Punjabi' 'Tamil' 'Telugu']\n",
      "Unique Values in Genre Column\n",
      "['Action' 'Comedy' 'Drama' 'Fantasy' 'Romance' 'Sci-Fi' 'Thriller'\n",
      " 'Adventure' 'Family' 'Highlights' 'Documentaries' 'Live Matches']\n",
      "Unique Values in Run Time (mins) Column\n",
      "[ 90 135 120 150 180  45  30  20  10  60  15   5 300 240]\n"
     ]
    }
   ],
   "source": [
    "#List of Unique Values in all (applicable) columns of Jotstar Contents Table\n",
    "print(\"Unique Values in Content Type Column\")\n",
    "print(jotstar_contents_df['Content Type'].unique())\n",
    "print(\"Unique Values in Language Column\")\n",
    "print(jotstar_contents_df['Language'].unique())\n",
    "print(\"Unique Values in Genre Column\")\n",
    "print(jotstar_contents_df['Genre'].unique())\n",
    "print(\"Unique Values in Run Time (mins) Column\")\n",
    "print(jotstar_contents_df['Run Time (mins)'].unique())"
   ]
  },
  {
   "cell_type": "code",
   "execution_count": 34,
   "id": "1d878a36-2a32-4e47-979d-6ce975fd2448",
   "metadata": {},
   "outputs": [
    {
     "name": "stdout",
     "output_type": "stream",
     "text": [
      "Unique Values in Age Group Column\n",
      "['18-24' '25-34' '35-44' '45+']\n",
      "Unique Values in City Tier Column\n",
      "['Tier 1' 'Tier 2' 'Tier 3']\n",
      "Unique Values in Subscription Plan Column\n",
      "['Premium' 'Free' 'VIP']\n",
      "Unique Values in New Subscription Plan Column\n",
      "['Premium' 'Free' 'VIP']\n"
     ]
    }
   ],
   "source": [
    "#List of Unique Values in all (applicable) columns of Jotstar Subscribers Table\n",
    "print(\"Unique Values in Age Group Column\")\n",
    "print(jotstar_subscribers_df['Age Group'].unique())\n",
    "print(\"Unique Values in City Tier Column\")\n",
    "print(jotstar_subscribers_df['City Tier'].unique())\n",
    "print(\"Unique Values in Subscription Plan Column\")\n",
    "print(jotstar_subscribers_df['Subscription Plan'].unique())\n",
    "print(\"Unique Values in New Subscription Plan Column\")\n",
    "print(jotstar_subscribers_df['New Subscription Plan'].unique())"
   ]
  },
  {
   "cell_type": "code",
   "execution_count": 35,
   "id": "356220bd-edda-4c13-8c65-39f03e2304da",
   "metadata": {},
   "outputs": [
    {
     "name": "stdout",
     "output_type": "stream",
     "text": [
      "Unique Values in Device Type Column\n",
      "['Mobile' 'TV' 'Laptop']\n"
     ]
    }
   ],
   "source": [
    "#List of Unique Values in all (applicable) columns of Jotstar Content Consumption Table\n",
    "print(\"Unique Values in Device Type Column\")\n",
    "print(jotstar_content_consumption_df['Device Type'].unique())"
   ]
  },
  {
   "cell_type": "code",
   "execution_count": 36,
   "id": "d96a4b5a-36ef-45c9-a6cc-278348a0c051",
   "metadata": {},
   "outputs": [
    {
     "name": "stdout",
     "output_type": "stream",
     "text": [
      "Unique Values in Content Type Column\n",
      "['Movie' 'Series' 'Sports']\n",
      "Unique Values in Language Column\n",
      "['English' 'Hindi' 'Kannada' 'Malayalam' 'Marathi' 'Tamil' 'Telugu']\n",
      "Unique Values in Genre Column\n",
      "['Action' 'Comedy' 'Drama' 'Family' 'Horror' 'Romance' 'Thriller' 'Crime'\n",
      " 'Documentaries' 'Highlights' 'Live Matches']\n",
      "Unique Values in Run Time (mins) Column\n",
      "[120 135 180  90 150  20  30  45  60  10  15 240 300   5]\n"
     ]
    }
   ],
   "source": [
    "#List of Unique Values in all (applicable) columns of LioCinema Contents Table\n",
    "print(\"Unique Values in Content Type Column\")\n",
    "print(liocinema_contents_df['Content Type'].unique())\n",
    "print(\"Unique Values in Language Column\")\n",
    "print(liocinema_contents_df['Language'].unique())\n",
    "print(\"Unique Values in Genre Column\")\n",
    "print(liocinema_contents_df['Genre'].unique())\n",
    "print(\"Unique Values in Run Time (mins) Column\")\n",
    "print(liocinema_contents_df['Run Time (mins)'].unique())"
   ]
  },
  {
   "cell_type": "code",
   "execution_count": 37,
   "id": "70e5abff-c1f8-40d1-b911-538576e7286e",
   "metadata": {},
   "outputs": [
    {
     "name": "stdout",
     "output_type": "stream",
     "text": [
      "Unique Values in Age Group Column\n",
      "['25-34' '18-24' '35-44' '45+']\n",
      "Unique Values in City Tier Column\n",
      "['Tier 3' 'Tier 1' 'Tier 2']\n",
      "Unique Values in Subscription Plan Column\n",
      "['Free' 'Basic' 'Premium']\n",
      "Unique Values in New Subscription Plan Column\n",
      "['Free' 'Basic' 'Premium']\n"
     ]
    }
   ],
   "source": [
    "#List of Unique Values in all (applicable) columns of LioCinema Subscribers Table\n",
    "print(\"Unique Values in Age Group Column\")\n",
    "print(liocinema_subscribers_df['Age Group'].unique())\n",
    "print(\"Unique Values in City Tier Column\")\n",
    "print(liocinema_subscribers_df['City Tier'].unique())\n",
    "print(\"Unique Values in Subscription Plan Column\")\n",
    "print(liocinema_subscribers_df['Subscription Plan'].unique())\n",
    "print(\"Unique Values in New Subscription Plan Column\")\n",
    "print(liocinema_subscribers_df['New Subscription Plan'].unique())"
   ]
  },
  {
   "cell_type": "code",
   "execution_count": 38,
   "id": "d85eda5f-2791-44e7-bd18-4725065ff02c",
   "metadata": {},
   "outputs": [
    {
     "name": "stdout",
     "output_type": "stream",
     "text": [
      "Unique Values in Device Type Column\n",
      "['Mobile' 'TV' 'Laptop']\n"
     ]
    }
   ],
   "source": [
    "#List of Unique Values in all (applicable) columns of LioCinema Content Consumption Table\n",
    "print(\"Unique Values in Device Type Column\")\n",
    "print(liocinema_content_consumption_df['Device Type'].unique())"
   ]
  },
  {
   "cell_type": "markdown",
   "id": "3ff4d16d-d0b0-4164-b1f0-a8b58c29384e",
   "metadata": {},
   "source": [
    "### Exporting Processed DataFrames to Parquet Files"
   ]
  },
  {
   "cell_type": "code",
   "execution_count": 40,
   "id": "f173067b-1647-4928-a035-125d180119b4",
   "metadata": {},
   "outputs": [
    {
     "name": "stdout",
     "output_type": "stream",
     "text": [
      "All DataFrames are saved as Parquet files successfully.\n"
     ]
    }
   ],
   "source": [
    "# Saving all Jotstar DataFrames in Parquet Format\n",
    "jotstar_contents_df.to_parquet('Parquet Data Files/02. Data Wrangling/Jotstar_db/contents.parquet', index = False)\n",
    "jotstar_subscribers_df.to_parquet('Parquet Data Files/02. Data Wrangling/Jotstar_db/subscribers.parquet', index = False)\n",
    "jotstar_content_consumption_df.to_parquet('Parquet Data Files/02. Data Wrangling/Jotstar_db/content_consumption.parquet', index = False)\n",
    "\n",
    "# Saving all LioCinema DataFrames in Parquet Format\n",
    "liocinema_contents_df.to_parquet('Parquet Data Files/02. Data Wrangling/LioCinema_db/contents.parquet', index = False)\n",
    "liocinema_subscribers_df.to_parquet('Parquet Data Files/02. Data Wrangling/LioCinema_db/subscribers.parquet', index = False)\n",
    "liocinema_content_consumption_df.to_parquet('Parquet Data Files/02. Data Wrangling/LioCinema_db/content_consumption.parquet', index = False)\n",
    "\n",
    "print(\"All DataFrames are saved as Parquet files successfully.\")"
   ]
  },
  {
   "cell_type": "markdown",
   "id": "e3202856-432f-4cb0-9c9b-9bde06d5e0aa",
   "metadata": {},
   "source": [
    "## Next Notebook: \"3. Feature Engineering\""
   ]
  }
 ],
 "metadata": {
  "kernelspec": {
   "display_name": "Python 3 (ipykernel)",
   "language": "python",
   "name": "python3"
  },
  "language_info": {
   "codemirror_mode": {
    "name": "ipython",
    "version": 3
   },
   "file_extension": ".py",
   "mimetype": "text/x-python",
   "name": "python",
   "nbconvert_exporter": "python",
   "pygments_lexer": "ipython3",
   "version": "3.12.4"
  }
 },
 "nbformat": 4,
 "nbformat_minor": 5
}
